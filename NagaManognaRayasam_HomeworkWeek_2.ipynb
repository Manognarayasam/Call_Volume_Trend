{
  "cells": [
    {
      "cell_type": "markdown",
      "metadata": {
        "id": "view-in-github",
        "colab_type": "text"
      },
      "source": [
        "<a href=\"https://colab.research.google.com/github/Manognarayasam/Call_Volume_Trend/blob/main/NagaManognaRayasam_HomeworkWeek_2.ipynb\" target=\"_parent\"><img src=\"https://colab.research.google.com/assets/colab-badge.svg\" alt=\"Open In Colab\"/></a>"
      ]
    },
    {
      "cell_type": "markdown",
      "metadata": {
        "id": "wxKNgUhRLAwD"
      },
      "source": [
        "# Problem Set 2"
      ]
    },
    {
      "cell_type": "markdown",
      "metadata": {
        "id": "nS4C_IlTLEvi"
      },
      "source": [
        "## Preparation"
      ]
    },
    {
      "cell_type": "code",
      "execution_count": 1,
      "metadata": {
        "id": "bQfLZodhATzm"
      },
      "outputs": [],
      "source": [
        "import pandas as pd\n",
        "import numpy as np\n",
        "import matplotlib.pyplot as plt\n",
        "import seaborn as sns\n",
        "from datetime import datetime\n",
        "import pytz"
      ]
    },
    {
      "cell_type": "markdown",
      "metadata": {
        "id": "I5jS0IbE9Lj7"
      },
      "source": [
        "### Import data"
      ]
    },
    {
      "cell_type": "code",
      "execution_count": 2,
      "metadata": {
        "colab": {
          "base_uri": "https://localhost:8080/"
        },
        "id": "bxyfs1edBLuT",
        "outputId": "c4d0f1dc-6cc0-4f97-9dce-fdb155cc27ce"
      },
      "outputs": [
        {
          "output_type": "stream",
          "name": "stdout",
          "text": [
            "Mounted at /content/drive\n"
          ]
        }
      ],
      "source": [
        "from google.colab import drive\n",
        "drive.mount(\"/content/drive\")\n",
        "!mkdir -p datashim\n",
        "!cp /content/drive/Shareddrives/DS602-F22/Data/data602.py ./datashim\n",
        "from datashim import data602"
      ]
    },
    {
      "cell_type": "code",
      "execution_count": 9,
      "metadata": {
        "id": "k6KwqWpM5VqR"
      },
      "outputs": [],
      "source": [
        "cdf = data602.read_citations()\n",
        "wdf = data602.read_weather()"
      ]
    },
    {
      "cell_type": "markdown",
      "metadata": {
        "id": "ukRW9IhlWBbt"
      },
      "source": [
        "## Question 1"
      ]
    },
    {
      "cell_type": "markdown",
      "metadata": {
        "id": "7o61g4aGWFYr"
      },
      "source": [
        "Using the `weather` dataset, construct a derived data frame having the following qualities:\n",
        "\n",
        "1. Each row represents an observation day\n",
        "2. Each column represents an hourly temperature observation.  That is, the dataframe includes 24 columns of the form `tmpmeasx`\twhere x ranges from 0 to 23 and represents the observation taken that hour.  (For changes from daylight savings time to standard time, there are two observations at the 1:00 hour (local).  You may discard one of the values arbitrarily.)"
      ]
    },
    {
      "cell_type": "markdown",
      "metadata": {
        "id": "v-Cz9hP0Xtvr"
      },
      "source": [
        "Using this derived dataset, show the average difference in temperature, standard deviation, and max/min values between observations taken in hours 2 (about 2:56am) and 14 (about 14:56, or 2:56pm).\n",
        "\n",
        "**Note:** The derived (reshaped) data frame should comprise one row for each distinct date in the data set, and 25 columns (representing date together with 24 hourly measurements).  Assign a new column calculated as the difference between `tmpmeas14` and `tmpmeas2`.  This calculated column represents the temperature increase for the day between 2:56 and 14:56.  Find the summary statistics (mean, max, min, and standard deviation) for this column."
      ]
    },
    {
      "cell_type": "code",
      "source": [
        "print(wdf.columns)"
      ],
      "metadata": {
        "colab": {
          "base_uri": "https://localhost:8080/"
        },
        "id": "JLPZKSu9f0DB",
        "outputId": "4bc2df53-1219-4931-83c1-a44b3539887a"
      },
      "execution_count": 5,
      "outputs": [
        {
          "output_type": "stream",
          "name": "stdout",
          "text": [
            "Index(['date', 'wnd_speed', 'tmp_meas', 'precip', 'precip_intensity',\n",
            "       'cloudcover', 'tstorm', 'winter', 'mist', 'fog'],\n",
            "      dtype='object')\n"
          ]
        }
      ]
    },
    {
      "cell_type": "code",
      "execution_count": 17,
      "metadata": {
        "id": "Q1duaWI-aa6f",
        "colab": {
          "base_uri": "https://localhost:8080/"
        },
        "outputId": "68b33161-9503-433e-fefa-88b63a3e0091"
      },
      "outputs": [
        {
          "output_type": "stream",
          "name": "stdout",
          "text": [
            "Summary Statistics for Temperature Difference (2:56 AM and 2:56 PM):\n",
            "Mean Difference: 2.74°C\n",
            "Max Difference: 16.10°C\n",
            "Min Difference: -16.10°C\n",
            "Standard Deviation: 3.70°C\n",
            "\n",
            "First few rows of the reshaped dataframe:\n",
            "            tmpmeas0  tmpmeas1  tmpmeas2  tmpmeas3  tmpmeas4  tmpmeas5  \\\n",
            "day                                                                      \n",
            "2016-01-01       7.2       6.1       6.7       6.1       5.6       5.0   \n",
            "2016-01-02       1.1       0.6      -0.6       0.6       0.6      -0.6   \n",
            "2016-01-03       1.7       0.6       0.0      -1.1      -1.7      -1.7   \n",
            "2016-01-04       2.8       1.7       0.6       0.0      -1.1      -2.2   \n",
            "2016-01-05      -3.3      -5.0      -6.1      -7.2      -8.3      -9.4   \n",
            "\n",
            "            tmpmeas6  tmpmeas7  tmpmeas8  tmpmeas9  ...  tmpmeas15  tmpmeas16  \\\n",
            "day                                                 ...                         \n",
            "2016-01-01       4.4       3.9       3.3       3.3  ...        5.6        6.7   \n",
            "2016-01-02      -1.7      -1.7      -0.6      -2.8  ...        5.0        6.1   \n",
            "2016-01-03      -1.7      -2.2      -2.8      -2.8  ...        7.8        9.4   \n",
            "2016-01-04      -1.7      -2.8      -1.7       0.0  ...        1.1        2.2   \n",
            "2016-01-05      -9.4      -9.4      -9.4      -9.4  ...       -4.4       -2.8   \n",
            "\n",
            "            tmpmeas17  tmpmeas18  tmpmeas19  tmpmeas20  tmpmeas21  tmpmeas22  \\\n",
            "day                                                                            \n",
            "2016-01-01        6.7        6.1        5.6        5.0        4.4        3.9   \n",
            "2016-01-02        7.2        8.3        8.3        7.8        6.1        3.9   \n",
            "2016-01-03       10.0       10.0       11.1       10.6        8.9        5.6   \n",
            "2016-01-04        2.2        1.7        1.1        0.0       -1.7       -2.2   \n",
            "2016-01-05       -1.7       -0.6        0.0        0.6       -1.1       -2.2   \n",
            "\n",
            "            tmpmeas23  temp_diff  \n",
            "day                               \n",
            "2016-01-01        2.2       -1.1  \n",
            "2016-01-02        2.2        3.9  \n",
            "2016-01-03        3.9        5.6  \n",
            "2016-01-04       -2.8       -0.6  \n",
            "2016-01-05       -3.3        0.0  \n",
            "\n",
            "[5 rows x 25 columns]\n"
          ]
        }
      ],
      "source": [
        "# Convert the 'date' column in the weather data to datetime (with timezone)\n",
        "wdf['date'] = pd.to_datetime(wdf['date'], utc=True, errors='coerce')\n",
        "\n",
        "# Extract the day and hour from the 'date' column\n",
        "wdf['day'] = wdf['date'].dt.date\n",
        "wdf['hour'] = wdf['date'].dt.hour\n",
        "\n",
        "# Pivot the weather data to create hourly temperature observations\n",
        "hourly_temps = wdf.pivot_table(\n",
        "    index='day',\n",
        "    columns='hour',\n",
        "    values='tmp_meas',\n",
        "    aggfunc='first'\n",
        ")\n",
        "# Rename the columns to 'tmpmeasX' where X represents the hour\n",
        "hourly_temps.columns = [f'tmpmeas{x}' for x in hourly_temps.columns]\n",
        "\n",
        "# Drop rows without full 24-hour data\n",
        "hourly_temps = hourly_temps.dropna()\n",
        "\n",
        "# Add a new column to calculate the temperature difference between hour 14 and hour 2\n",
        "hourly_temps['temp_diff'] = hourly_temps['tmpmeas14'] - hourly_temps['tmpmeas2']\n",
        "\n",
        "# Calculate summary statistics for the temperature difference\n",
        "mean_diff = hourly_temps['temp_diff'].mean()\n",
        "max_diff = hourly_temps['temp_diff'].max()\n",
        "min_diff = hourly_temps['temp_diff'].min()\n",
        "std_diff = hourly_temps['temp_diff'].std()\n",
        "\n",
        "# Display summary statistics\n",
        "print(\"Summary Statistics for Temperature Difference (2:56 AM and 2:56 PM):\")\n",
        "print(f\"Mean Difference: {mean_diff:.2f}°C\")\n",
        "print(f\"Max Difference: {max_diff:.2f}°C\")\n",
        "print(f\"Min Difference: {min_diff:.2f}°C\")\n",
        "print(f\"Standard Deviation: {std_diff:.2f}°C\")\n",
        "# Display first few rows of the reshaped dataframe\n",
        "print(\"\\nFirst few rows of the reshaped dataframe:\")\n",
        "print(hourly_temps.head())\n",
        "\n"
      ]
    },
    {
      "cell_type": "markdown",
      "metadata": {
        "id": "C54Wbpcxarqf"
      },
      "source": [
        "## Question 2\n",
        "\n",
        "**Circular data and One-Hot Encoding** Using the `Citations` data frame (`cdf`), discard records where the violation timestamp is not between January 1, 2021 and July 1, 2022."
      ]
    },
    {
      "cell_type": "code",
      "execution_count": 10,
      "metadata": {
        "id": "BUsgVA9mb-yz",
        "colab": {
          "base_uri": "https://localhost:8080/"
        },
        "outputId": "afa7721f-1ed8-4a15-b25e-b4dc88284f62"
      },
      "outputs": [
        {
          "output_type": "stream",
          "name": "stdout",
          "text": [
            "Index(['citation', 'tag', 'state', 'violcode', 'description', 'violfine',\n",
            "       'violdate', 'location', 'violdtl'],\n",
            "      dtype='object')\n"
          ]
        }
      ],
      "source": [
        "print(cdf.columns)"
      ]
    },
    {
      "cell_type": "markdown",
      "metadata": {
        "id": "aQjfKXt8csxP"
      },
      "source": [
        "Identify the 5 most common violation types.  Remove from the derivative data frame any observation where the violation type is not among these 5 most common"
      ]
    },
    {
      "cell_type": "code",
      "source": [
        "# Convert 'violdate' to datetime and filter based on the date range\n",
        "cdf['violdate'] = pd.to_datetime(cdf['violdate'], errors='coerce')\n",
        "\n",
        "# Filter rows where 'violdate' is between '2021-01-01' and '2022-07-01'\n",
        "new_cdf = cdf[(cdf['violdate'] >= '2021-01-01') & (cdf['violdate'] <= '2022-07-01')]\n",
        "\n",
        "print(new_cdf.head())\n"
      ],
      "metadata": {
        "colab": {
          "base_uri": "https://localhost:8080/"
        },
        "id": "SAwQc17GjVJ9",
        "outputId": "78f22351-7c5d-40ec-a258-07e45b5b9487"
      },
      "execution_count": 25,
      "outputs": [
        {
          "output_type": "stream",
          "name": "stdout",
          "text": [
            "        citation      tag state  violcode  \\\n",
            "4632   001713171   N73LDS    NJ        12   \n",
            "4633   001713189  9ET0286    MD        99   \n",
            "4634   001713197  9EP2809    MD        99   \n",
            "7770   003481843  3EJ7926    MD        99   \n",
            "10928  000130278  19213CD    MD        27   \n",
            "\n",
            "                                    description  violfine            violdate  \\\n",
            "4632     No Stopping/Standing Not Tow-Away Zone        32 2021-01-31 18:40:00   \n",
            "4633   All Other Stopping or Parking Violations        32 2021-12-29 17:00:00   \n",
            "4634   All Other Stopping or Parking Violations        32 2021-12-29 17:00:00   \n",
            "7770   All Other Stopping or Parking Violations        32 2021-08-27 18:45:00   \n",
            "10928              No Stop/Park Street Cleaning        52 2021-06-06 23:40:00   \n",
            "\n",
            "                          location             violdtl  \n",
            "4632                               2021-01-31 18:40:00  \n",
            "4633                               2021-12-29 17:00:00  \n",
            "4634                               2021-12-29 17:00:00  \n",
            "7770                               2021-08-27 18:45:00  \n",
            "10928  (39.28997272, -76.61002178) 2021-06-06 23:40:00  \n"
          ]
        }
      ]
    },
    {
      "cell_type": "code",
      "source": [
        "# Identify the 5 most common violation types\n",
        "top_5_violations = cdf['violcode'].value_counts().nlargest(5).index\n",
        "\n",
        "# Filter the dataframe to only include rows where the violation type is in the top 5\n",
        "cdf_top_5 = cdf[cdf['violcode'].isin(top_5_violations)]\n",
        "\n",
        "print(cdf_top_5)\n"
      ],
      "metadata": {
        "colab": {
          "base_uri": "https://localhost:8080/"
        },
        "id": "FbEYzPn-lD_N",
        "outputId": "28702251-8d81-4486-85df-606920599a32"
      },
      "execution_count": 26,
      "outputs": [
        {
          "output_type": "stream",
          "name": "stdout",
          "text": [
            "          citation      tag state  violcode  \\\n",
            "4        000000562  9AE2340    MD        18   \n",
            "16       000001313  1AG6448    MD        18   \n",
            "17       000001388  27930M3    MD        18   \n",
            "18       000001487   6CZD50    MD        18   \n",
            "19       000001495  4AM9379    MD        18   \n",
            "...            ...      ...   ...       ...   \n",
            "7891740  500314103   LTC338    MD        30   \n",
            "7891741  500314104  1FH5756    MD        30   \n",
            "7891742  500314105  64390CD    MD        30   \n",
            "7891743  500314106  2BA2462    MD        31   \n",
            "7891744  500314107  A389325    MD        30   \n",
            "\n",
            "                                description  violfine            violdate  \\\n",
            "4        All Other Parking Meter Violations        32 2011-12-12 10:47:00   \n",
            "16       All Other Parking Meter Violations        32 2011-12-12 11:55:00   \n",
            "17       All Other Parking Meter Violations        32 2011-12-12 14:42:59   \n",
            "18       All Other Parking Meter Violations        32 2011-12-27 10:40:00   \n",
            "19       All Other Parking Meter Violations        32 2011-12-27 10:44:00   \n",
            "...                                     ...       ...                 ...   \n",
            "7891740                 Red Light Violation        75 2023-07-27 14:24:00   \n",
            "7891741                 Red Light Violation        75 2023-07-27 14:28:00   \n",
            "7891742                 Red Light Violation        75 2023-07-27 14:29:00   \n",
            "7891743                        Right on Red        75 2023-07-27 14:29:59   \n",
            "7891744                 Red Light Violation        75 2023-07-27 14:31:00   \n",
            "\n",
            "                                  location             violdtl  \n",
            "4        LAFAYETTE MARKET LOT Baltimore MD 2011-12-12 10:47:00  \n",
            "16                                         2011-12-12 11:55:00  \n",
            "17                                         2011-12-12 14:42:59  \n",
            "18                                         2011-12-27 10:40:00  \n",
            "19                                         2011-12-27 10:44:00  \n",
            "...                                    ...                 ...  \n",
            "7891740                                    2023-07-27 14:24:00  \n",
            "7891741                                    2023-07-27 14:28:00  \n",
            "7891742                                    2023-07-27 14:29:00  \n",
            "7891743                                    2023-07-27 14:29:59  \n",
            "7891744                                    2023-07-27 14:31:00  \n",
            "\n",
            "[5749721 rows x 9 columns]\n"
          ]
        }
      ]
    },
    {
      "cell_type": "markdown",
      "metadata": {
        "id": "6xcUC_kedxYG"
      },
      "source": [
        "Identify the average time of day for each violation in the derivative data frame.  (You will need to use the circular mean to compute this average.  Hint: begin by transforming the time of day to an angle on the unit circle, where $0=2\\pi$ radians indicates midnight, and $\\pi$ radians represents noon.)"
      ]
    },
    {
      "cell_type": "markdown",
      "metadata": {
        "id": "xXr7EbYNkpdY"
      },
      "source": [
        "Note: the following functions may be useful for this question:"
      ]
    },
    {
      "cell_type": "code",
      "execution_count": 27,
      "metadata": {
        "id": "txkryyBrko_N"
      },
      "outputs": [],
      "source": [
        "import numpy as np\n",
        "from typing import Tuple\n",
        "\n",
        "\n",
        "@np.vectorize\n",
        "def timetotheta(hr: int, min: int) -> float:\n",
        "  \"\"\" Convert a time of day (hour, minute) to an angle on the unit circle\n",
        "    (e.g., (12,0) -> pi)\n",
        "  \"\"\"\n",
        "  ratio = (hr * 60 + min) / (23*60+60)\n",
        "  return ratio * 2 * np.pi\n",
        "\n",
        "@np.vectorize\n",
        "def thetatotime(theta: float) -> (int, int):\n",
        "  \"\"\" Convert a an angle on the unit circle to a time\n",
        "    (e.g., pi -> \"12:00\")\n",
        "  \"\"\"\n",
        "  theta = theta + (2 * np.pi) if theta < 0 else theta\n",
        "  elapsedmin = np.round(theta/(2 * np.pi) * 24 * 60)\n",
        "  hr, min = np.divmod(elapsedmin, 60)\n",
        "  return f\"{int(hr):02d}:{int(min):02d}\""
      ]
    },
    {
      "cell_type": "code",
      "execution_count": 33,
      "metadata": {
        "id": "Mqifa37_b_j7",
        "colab": {
          "base_uri": "https://localhost:8080/"
        },
        "outputId": "0aad5f41-d962-418d-aa2d-8a2ab7db98ad"
      },
      "outputs": [
        {
          "output_type": "stream",
          "name": "stderr",
          "text": [
            "<ipython-input-33-26925a73abad>:8: FutureWarning: The default of observed=False is deprecated and will be changed to True in a future version of pandas. Pass observed=False to retain current behavior or observed=True to adopt the future default and silence this warning.\n",
            "  circular_means = cdf.groupby(['violcode', 'description'])['theta'].mean()\n"
          ]
        },
        {
          "output_type": "stream",
          "name": "stdout",
          "text": [
            "    violcode                                        description avg_time\n",
            "0          1                                 Abandonded Vehicle    11:39\n",
            "1          2            No Stopping or No Parking Pimlico Event    11:54\n",
            "2          3                  Obstruct/Impeding Flow of Traffic    13:20\n",
            "3          4                     Snow Emergency Route Violation    11:38\n",
            "4          5           Obstruct/Impeding Movement of Pedestrian    13:09\n",
            "5          6                    Fire Lane/Handicapped Violation    14:15\n",
            "6          7             Parking or Parking Meter Tow-Away zone    13:01\n",
            "7          8                 No Stopping/Standing Tow Away Zone    13:16\n",
            "8          9           Commercial Veh/Residence over 20,000 lbs    15:26\n",
            "9         10          Commercial Veh/Residence under 20,000 lbs    16:39\n",
            "10        11                    Residential Parking Permit Only    15:23\n",
            "11        12             No Stopping/Standing Not Tow-Away Zone    13:30\n",
            "12        13                        Blocking Garage or Driveway    13:07\n",
            "13        14         No Stopping/Parking Stadium Event â€“ 33rd    12:25\n",
            "14        15          No Stopping//Parking Stadium Event Camden    18:04\n",
            "15        16                No Parking/Standing In Transit Stop    13:57\n",
            "16        17                Less Than 15 feet from Fire Hydrant    13:09\n",
            "17        18                 All Other Parking Meter Violations    14:08\n",
            "18        19                                 Exceeding 48 Hours    11:48\n",
            "19        20                             Passenger Loading Zone    12:40\n",
            "20        22                                       Expired Tags    12:14\n",
            "21        23                                   In Taxicab Stand    12:40\n",
            "22        25                       Less 30â€™ from Intersection    11:18\n",
            "23        26                              No Stop/Park Handicap    13:42\n",
            "24        27                       No Stop/Park Street Cleaning    10:01\n",
            "25        28                        No Stop/Stand/Park Cruising    12:06\n",
            "26        30                                Red Light Violation    13:38\n",
            "27        31                                       Right on Red    13:11\n",
            "28        32                                 Fixed Speed Camera    13:10\n",
            "29        33                                Mobile Speed Camera    13:05\n",
            "30        34                             Old Fixed Speed Camera    12:51\n",
            "31        36                    Truck Overheight Warning Notice    12:19\n",
            "32        37                  Truck Overheight Second Violation    12:02\n",
            "33        38     Truck Overheight Third or Subsequent Violation    11:46\n",
            "34        39                                      Interstate 83    13:38\n",
            "35        40           Unlawful Dumping/Waste Hauler w/o Permit    10:54\n",
            "36        41                  No Parking/Standing In Bike Lanes    13:05\n",
            "37        42     Commercial Vehicle Obstruct/Imped Traffic Flow    12:45\n",
            "38        43       Obstructing/Imped Traffic Xwalk/inter/school    11:18\n",
            "39        44                   No Parking/Standing Vendor Truck    11:45\n",
            "40        45   No Parking/Stand Motor Home/Campr/Travel Trailer    16:24\n",
            "41        46           No Parking/Standing In Bus Stop/Bus Lane    15:06\n",
            "42        47  Obstructing or Impeding Traffic in an Intersec...    10:36\n",
            "43        50                       Res. Park Permit 2nd Offense    11:40\n",
            "44        51                       Res. Park Permit 3rd Offense    11:39\n",
            "45        52                       Res. Park Permit 4th Offense    15:05\n",
            "46        99           All Other Stopping or Parking Violations    13:59\n"
          ]
        }
      ],
      "source": [
        "import numpy as np\n",
        "import pandas as pd\n",
        "\n",
        "# Convert time (hour, minute) to angle on the unit circle\n",
        "cdf['theta'] = timetotheta(cdf['violdate'].dt.hour, cdf['violdate'].dt.minute)\n",
        "\n",
        "# Group by 'violcode' and 'description', calculate circular mean\n",
        "circular_means = cdf.groupby(['violcode', 'description'])['theta'].mean()\n",
        "\n",
        "# Drop NaN values from circular means\n",
        "circular_means = circular_means.dropna()\n",
        "\n",
        "# Convert circular means back to time\n",
        "avg_violation_times = circular_means.apply(thetatotime).reset_index(name='avg_time')\n",
        "\n",
        "# Display the result\n",
        "print(avg_violation_times)\n"
      ]
    },
    {
      "cell_type": "markdown",
      "metadata": {
        "id": "uDzsqoVXlKI5"
      },
      "source": [
        "The violation type column is a nominal field.  Convert this field to one-hot encoded (OHE) variables, and add these variables to the data frame."
      ]
    },
    {
      "cell_type": "code",
      "execution_count": 34,
      "metadata": {
        "id": "bXk9kHYPb_4I",
        "colab": {
          "base_uri": "https://localhost:8080/"
        },
        "outputId": "d7472040-e4d9-4622-e7a1-ef6ce90c7d28"
      },
      "outputs": [
        {
          "output_type": "stream",
          "name": "stdout",
          "text": [
            "    citation       tag state  violcode  \\\n",
            "0  000000091    03W671    MD        27   \n",
            "1  000000166  T294093T    MD        12   \n",
            "2  000000299  19TLR318    ME        99   \n",
            "3  000000315  14TLR551    ME        99   \n",
            "4  000000562   9AE2340    MD        18   \n",
            "\n",
            "                                description  violfine            violdate  \\\n",
            "0              No Stop/Park Street Cleaning        52 2011-12-09 11:55:00   \n",
            "1    No Stopping/Standing Not Tow-Away Zone        32 2011-12-09 12:39:00   \n",
            "2  All Other Stopping or Parking Violations        32 2011-12-09 11:55:00   \n",
            "3  All Other Stopping or Parking Violations        32 2011-12-09 12:01:59   \n",
            "4        All Other Parking Meter Violations        32 2011-12-12 10:47:00   \n",
            "\n",
            "                            location             violdtl  hour  ...  \\\n",
            "0                                    2011-12-09 11:55:00    11  ...   \n",
            "1                                    2011-12-09 12:39:00    12  ...   \n",
            "2                                    2011-12-09 11:55:00    11  ...   \n",
            "3                                    2011-12-09 12:01:59    12  ...   \n",
            "4  LAFAYETTE MARKET LOT Baltimore MD 2011-12-12 10:47:00    10  ...   \n",
            "\n",
            "   violcode_42  violcode_43  violcode_44  violcode_45  violcode_46  \\\n",
            "0        False        False        False        False        False   \n",
            "1        False        False        False        False        False   \n",
            "2        False        False        False        False        False   \n",
            "3        False        False        False        False        False   \n",
            "4        False        False        False        False        False   \n",
            "\n",
            "   violcode_47  violcode_50  violcode_51  violcode_52  violcode_99  \n",
            "0        False        False        False        False        False  \n",
            "1        False        False        False        False        False  \n",
            "2        False        False        False        False         True  \n",
            "3        False        False        False        False         True  \n",
            "4        False        False        False        False        False  \n",
            "\n",
            "[5 rows x 59 columns]\n"
          ]
        }
      ],
      "source": [
        "import pandas as pd\n",
        "# One-hot encode the 'violcode' column\n",
        "ohe_violcode = pd.get_dummies(cdf['violcode'], prefix='violcode')\n",
        "\n",
        "# Add the one-hot encoded variables to the original DataFrame\n",
        "cdf = pd.concat([cdf, ohe_violcode], axis=1)\n",
        "\n",
        "# Display the updated DataFrame\n",
        "print(cdf.head())\n"
      ]
    },
    {
      "cell_type": "markdown",
      "metadata": {
        "id": "V4liKivrl7gM"
      },
      "source": [
        "## Question 3\n",
        " Join the citations and weather datasets to produce a merged data frame.  The merged data frame should provide, for each citation, the reported weather conditions for the closest weather observation."
      ]
    },
    {
      "cell_type": "code",
      "execution_count": 43,
      "metadata": {
        "id": "ZsEYUPpicAk0",
        "colab": {
          "base_uri": "https://localhost:8080/"
        },
        "outputId": "d3b07355-ca9a-4eed-d2c5-137873448b80"
      },
      "outputs": [
        {
          "output_type": "stream",
          "name": "stdout",
          "text": [
            "    citation      tag state  violcode          description  violfine  \\\n",
            "0  040231789   YRJ641    MD        30  Red Light Violation        75   \n",
            "1  041021270   GES259    MD        30  Red Light Violation        75   \n",
            "2  041036682   CYX244    MD        30  Red Light Violation        75   \n",
            "3  041379157   DYH813    MD        30  Red Light Violation        75   \n",
            "4  043219849  A006827    MD        30  Red Light Violation        75   \n",
            "\n",
            "             violdate location             violdtl  hour_x  ...  precip  \\\n",
            "0 1999-07-27 04:11:00          1999-07-27 04:11:00       4  ...     0.0   \n",
            "1 2000-05-26 14:41:00          2000-05-26 14:41:00      14  ...     0.0   \n",
            "2 2000-06-01 18:59:59          2000-06-01 18:59:59      18  ...     0.0   \n",
            "3 2000-08-26 01:47:00          2000-08-26 01:47:00       1  ...     0.0   \n",
            "4 2002-01-26 09:11:59          2002-01-26 09:11:59       9  ...     0.0   \n",
            "\n",
            "   precip_intensity  cloudcover  tstorm  winter  mist  fog         day  \\\n",
            "0                 0         4.0       0       0     0    0  2016-01-01   \n",
            "1                 0         4.0       0       0     0    0  2016-01-01   \n",
            "2                 0         4.0       0       0     0    0  2016-01-01   \n",
            "3                 0         4.0       0       0     0    0  2016-01-01   \n",
            "4                 0         4.0       0       0     0    0  2016-01-01   \n",
            "\n",
            "   hour_y                      data  \n",
            "0       0 2016-01-01 00:54:00+00:00  \n",
            "1       0 2016-01-01 00:54:00+00:00  \n",
            "2       0 2016-01-01 00:54:00+00:00  \n",
            "3       0 2016-01-01 00:54:00+00:00  \n",
            "4       0 2016-01-01 00:54:00+00:00  \n",
            "\n",
            "[5 rows x 71 columns]\n"
          ]
        }
      ],
      "source": [
        "import pandas as pd\n",
        "\n",
        "# Convert citation and weather date columns to timezone-naive datetime with nanosecond precision\n",
        "cdf['violdate'] = pd.to_datetime(cdf['violdate'], errors='coerce').dt.tz_localize(None).astype('datetime64[ns]')\n",
        "wdf['date'] = pd.to_datetime(wdf['date'], errors='coerce').dt.tz_localize(None).astype('datetime64[ns]')\n",
        "\n",
        "# Sort both DataFrames by their date columns for merging\n",
        "cdf = cdf.sort_values('violdate')\n",
        "wdf = wdf.sort_values('date')\n",
        "\n",
        "# Efficiently merge citations with the nearest weather observation\n",
        "merged_df = pd.merge_asof(cdf, wdf, left_on='violdate', right_on='date', direction='nearest')\n",
        "\n",
        "# Drop unnecessary columns and show the first few rows of the merged data\n",
        "merged_df = merged_df.drop(columns=['date'])\n",
        "print(merged_df.head())\n"
      ]
    },
    {
      "cell_type": "markdown",
      "metadata": {
        "id": "cFWo3E36owS-"
      },
      "source": [
        "From this joined data set, examine instances of fixed speed camera citations (violation type 32).  Does weather affect citation volumes?  Justify your conclusion. [Note: you do not need to provide a statistical proof; it is sufficient to justify your conclusion through visual or descriptive analysis.]"
      ]
    },
    {
      "cell_type": "code",
      "execution_count": 45,
      "metadata": {
        "id": "gejT8mcJcBno",
        "colab": {
          "base_uri": "https://localhost:8080/"
        },
        "outputId": "0b6bd23a-05d1-4b77-a505-4b304291c9a1"
      },
      "outputs": [
        {
          "output_type": "stream",
          "name": "stdout",
          "text": [
            "Index(['citation', 'tag', 'state', 'violcode', 'description', 'violfine',\n",
            "       'violdate', 'location', 'violdtl', 'hour_x', 'minute', 'theta',\n",
            "       'violcode_1', 'violcode_2', 'violcode_3', 'violcode_4', 'violcode_5',\n",
            "       'violcode_6', 'violcode_7', 'violcode_8', 'violcode_9', 'violcode_10',\n",
            "       'violcode_11', 'violcode_12', 'violcode_13', 'violcode_14',\n",
            "       'violcode_15', 'violcode_16', 'violcode_17', 'violcode_18',\n",
            "       'violcode_19', 'violcode_20', 'violcode_22', 'violcode_23',\n",
            "       'violcode_25', 'violcode_26', 'violcode_27', 'violcode_28',\n",
            "       'violcode_30', 'violcode_31', 'violcode_32', 'violcode_33',\n",
            "       'violcode_34', 'violcode_36', 'violcode_37', 'violcode_38',\n",
            "       'violcode_39', 'violcode_40', 'violcode_41', 'violcode_42',\n",
            "       'violcode_43', 'violcode_44', 'violcode_45', 'violcode_46',\n",
            "       'violcode_47', 'violcode_50', 'violcode_51', 'violcode_52',\n",
            "       'violcode_99', 'wnd_speed', 'tmp_meas', 'precip', 'precip_intensity',\n",
            "       'cloudcover', 'tstorm', 'winter', 'mist', 'fog', 'day', 'hour_y',\n",
            "       'data'],\n",
            "      dtype='object')\n"
          ]
        }
      ],
      "source": [
        "print(violation_32_df.columns)\n"
      ]
    },
    {
      "cell_type": "code",
      "source": [
        "import matplotlib.pyplot as plt\n",
        "\n",
        "# Group by the correct weather conditions and count citations\n",
        "weather_citations = violation_32_df.groupby(['precip', 'wnd_speed', 'cloudcover']).size().reset_index(name='citation_count')\n",
        "\n",
        "# Plot citations vs weather conditions\n",
        "fig, axes = plt.subplots(1, 3, figsize=(15, 5))\n",
        "\n",
        "axes[0].scatter(weather_citations['precip'], weather_citations['citation_count'], alpha=0.7)\n",
        "axes[0].set_title('Citations vs Precipitation')\n",
        "axes[0].set_xlabel('Precipitation')\n",
        "axes[0].set_ylabel('Citation Count')\n",
        "\n",
        "axes[1].scatter(weather_citations['wnd_speed'], weather_citations['citation_count'], alpha=0.7)\n",
        "axes[1].set_title('Citations vs Wind Speed')\n",
        "axes[1].set_xlabel('Wind Speed')\n",
        "\n",
        "axes[2].scatter(weather_citations['cloudcover'], weather_citations['citation_count'], alpha=0.7)\n",
        "axes[2].set_title('Citations vs Cloud Cover')\n",
        "axes[2].set_xlabel('Cloud Cover')\n",
        "\n",
        "plt.tight_layout()\n",
        "plt.show()\n"
      ],
      "metadata": {
        "colab": {
          "base_uri": "https://localhost:8080/",
          "height": 398
        },
        "id": "VuRI7HPXu_ke",
        "outputId": "bc21b588-2240-4cc7-bb72-f06e431738c9"
      },
      "execution_count": 49,
      "outputs": [
        {
          "output_type": "display_data",
          "data": {
            "text/plain": [
              "<Figure size 1500x500 with 3 Axes>"
            ],
            "image/png": "[encoded data removed]"
          },
          "metadata": {}
        }
      ]
    }
  ],
  "metadata": {
    "colab": {
      "provenance": [],
      "include_colab_link": true
    },
    "kernelspec": {
      "display_name": "Python 3",
      "name": "python3"
    },
    "language_info": {
      "name": "python"
    }
  },
  "nbformat": 4,
  "nbformat_minor": 0
}